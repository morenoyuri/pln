{
  "nbformat": 4,
  "nbformat_minor": 0,
  "metadata": {
    "colab": {
      "name": "Projeto 3.ipynb",
      "provenance": [],
      "authorship_tag": "ABX9TyOz9+MDfItpQHRqqOACcplA",
      "include_colab_link": true
    },
    "kernelspec": {
      "name": "python3",
      "display_name": "Python 3"
    },
    "language_info": {
      "name": "python"
    }
  },
  "cells": [
    {
      "cell_type": "markdown",
      "metadata": {
        "id": "view-in-github",
        "colab_type": "text"
      },
      "source": [
        "<a href=\"https://colab.research.google.com/github/morenoyuri/pln/blob/main/Projeto_3.ipynb\" target=\"_parent\"><img src=\"https://colab.research.google.com/assets/colab-badge.svg\" alt=\"Open In Colab\"/></a>"
      ]
    },
    {
      "cell_type": "markdown",
      "metadata": {
        "id": "_Rbswlv4EL6l"
      },
      "source": [
        "# Projeto 3"
      ]
    },
    {
      "cell_type": "markdown",
      "metadata": {
        "id": "PST1wNuDO-LZ"
      },
      "source": [
        "Nesse projeto temos como objetivo desenvolver um programa para recomendar livros baseados na similaridade de textos na Wikipedia."
      ]
    },
    {
      "cell_type": "code",
      "metadata": {
        "id": "aA76incfrc08"
      },
      "source": [
        "import pandas as pd"
      ],
      "execution_count": null,
      "outputs": []
    },
    {
      "cell_type": "code",
      "metadata": {
        "id": "0BKUVpKEPP_B"
      },
      "source": [
        "!pip install wikipedia"
      ],
      "execution_count": null,
      "outputs": []
    },
    {
      "cell_type": "markdown",
      "metadata": {
        "id": "S92Vi3UghQsr"
      },
      "source": [
        "O código abaixo pega os artigos da Wikipedia, insere no dicionário d e depois adicionará no DataFrame df."
      ]
    },
    {
      "cell_type": "code",
      "metadata": {
        "id": "ITGhGB98gf-o"
      },
      "source": [
        "# Pegando artigos da wikipedia\n",
        "import wikipedia\n",
        "\n",
        "books = []\n",
        "\n",
        "books.append(wikipedia.page(\"Harry Potter and the Philosopher's Stone\", auto_suggest=False))\n",
        "books.append(wikipedia.page(\"Harry Potter and the Chamber of Secrets\", auto_suggest=False))\n",
        "books.append(wikipedia.page(\"Harry Potter and the Prisoner of Azkaban\", auto_suggest=False))\n",
        "books.append(wikipedia.page(\"Harry Potter and the Goblet of Fire\", auto_suggest=False))\n",
        "books.append(wikipedia.page(\"Harry Potter and the Order of the Phoenix\", auto_suggest=False))\n",
        "books.append(wikipedia.page(\"Harry Potter and the Half-Blood Prince\", auto_suggest=False))\n",
        "books.append(wikipedia.page(\"Harry Potter and the Deathly Hallows\", auto_suggest=False))\n",
        "\n",
        "books.append(wikipedia.page(\"The Hobbit\", auto_suggest=False))\n",
        "books.append(wikipedia.page(\"The Fellowship of the Ring\", auto_suggest=False))\n",
        "books.append(wikipedia.page(\"The Two Towers\", auto_suggest=False))\n",
        "books.append(wikipedia.page(\"The Return of the King\", auto_suggest=False))\n",
        "\n",
        "books.append(wikipedia.page(\"A Game of Thrones\", auto_suggest=False))\n",
        "books.append(wikipedia.page(\"A Clash of Kings\", auto_suggest=False))\n",
        "books.append(wikipedia.page(\"A Storm of Swords\", auto_suggest=False))\n",
        "books.append(wikipedia.page(\"A Feast for Crows\", auto_suggest=False))\n",
        "books.append(wikipedia.page(\"A Dance with Dragons\", auto_suggest=False))\n",
        "books.append(wikipedia.page(\"The Winds of Winter\", auto_suggest=False))\n",
        "\n",
        "books.append(wikipedia.page(\"The Lion, the Witch and the Wardrobe\", auto_suggest=False))\n",
        "books.append(wikipedia.page(\"Prince Caspian\", auto_suggest=False))\n",
        "books.append(wikipedia.page(\"The Voyage of the Dawn Treader\", auto_suggest=False))\n",
        "books.append(wikipedia.page(\"The Silver Chair\", auto_suggest=False))\n",
        "books.append(wikipedia.page(\"The Horse and His Boy\", auto_suggest=False))\n",
        "books.append(wikipedia.page(\"The Magician's Nephew\", auto_suggest=False))\n",
        "books.append(wikipedia.page(\"The Last Battle\", auto_suggest=False))\n",
        "\n",
        "books.append(wikipedia.page(\"Eragon\", auto_suggest=False))\n",
        "books.append(wikipedia.page(\"Eldest\", auto_suggest=False))\n",
        "books.append(wikipedia.page(\"Brisingr\", auto_suggest=False))\n",
        "books.append(wikipedia.page(\"Inheritance (Paolini novel)\", auto_suggest=False))\n",
        "\n",
        "books.append(wikipedia.page(\"The Hunger Games (novel)\", auto_suggest=False))\n",
        "books.append(wikipedia.page(\"Catching Fire\", auto_suggest=False))\n",
        "books.append(wikipedia.page(\"Mockingjay\", auto_suggest=False))\n",
        "books.append(wikipedia.page(\"The Ballad of Songbirds and Snakes\", auto_suggest=False))\n",
        "\n",
        "books.append(wikipedia.page(\"In Search of Lost Time\", auto_suggest=False))\n",
        "books.append(wikipedia.page(\"Ulysses (novel)\", auto_suggest=False))\n",
        "books.append(wikipedia.page(\"Don Quixote\", auto_suggest=False))\n",
        "books.append(wikipedia.page(\"One Hundred Years of Solitude\", auto_suggest=False))\n",
        "books.append(wikipedia.page(\"The Great Gatsby\", auto_suggest=False))\n",
        "books.append(wikipedia.page(\"Moby Dick\", auto_suggest=False))\n",
        "books.append(wikipedia.page(\"War and Peace\", auto_suggest=False))\n",
        "books.append(wikipedia.page(\"Hamlet\", auto_suggest=False))\n",
        "books.append(wikipedia.page(\"Alice's Adventures in Wonderland\", auto_suggest=False))\n",
        "books.append(wikipedia.page(\"Rebecca\", auto_suggest=False))\n",
        "\n",
        "d = {\"title\":[], \"content\":[]}\n",
        "for book in books:\n",
        "  d[\"title\"].append(book.original_title)\n",
        "  d[\"content\"].append(book.content)\n",
        "df = pd.DataFrame(data=d)"
      ],
      "execution_count": 99,
      "outputs": []
    },
    {
      "cell_type": "code",
      "metadata": {
        "colab": {
          "base_uri": "https://localhost:8080/"
        },
        "id": "ZaTbhHN5oKHa",
        "outputId": "4370484a-632c-4bca-9e83-601d6df61b03"
      },
      "source": [
        "import nltk\n",
        "\n",
        "nltk.download('stopwords')\n",
        "nltk.download('punkt')"
      ],
      "execution_count": 100,
      "outputs": [
        {
          "output_type": "stream",
          "text": [
            "[nltk_data] Downloading package stopwords to /root/nltk_data...\n",
            "[nltk_data]   Package stopwords is already up-to-date!\n",
            "[nltk_data] Downloading package punkt to /root/nltk_data...\n",
            "[nltk_data]   Package punkt is already up-to-date!\n"
          ],
          "name": "stdout"
        },
        {
          "output_type": "execute_result",
          "data": {
            "text/plain": [
              "True"
            ]
          },
          "metadata": {
            "tags": []
          },
          "execution_count": 100
        }
      ]
    },
    {
      "cell_type": "code",
      "metadata": {
        "colab": {
          "base_uri": "https://localhost:8080/"
        },
        "id": "k_R9ZAdTfySL",
        "outputId": "61374d6f-6f1e-4052-cd20-b05bcd95767d"
      },
      "source": [
        "import re\n",
        "import numpy as np\n",
        "\n",
        "stop_words = nltk.corpus.stopwords.words('english')\n",
        "\n",
        "def normalize_document(doc):\n",
        "    # lower case and remove special characters\\whitespaces\n",
        "    doc = re.sub(r'[^a-zA-Z0-9\\s]', '', doc, re.I|re.A)\n",
        "    # remove all single characters\n",
        "    doc = re.sub(r'\\s+[a-zA-Z]\\s+', ' ', doc)\n",
        "    # remove single characters from the start\n",
        "    doc = re.sub(r'\\^[a-zA-Z]\\s+', ' ', doc)\n",
        "    # substituting multiple spaces with single space\n",
        "    doc = re.sub(r'\\s+', ' ', doc, flags=re.I)\n",
        "    doc = doc.lower()\n",
        "    doc = doc.strip()\n",
        "    # tokenize document\n",
        "    tokens = nltk.word_tokenize(doc)\n",
        "    # filter stopwords out of document\n",
        "    filtered_tokens = [token for token in tokens if token not in stop_words]\n",
        "    # re-create document from filtered tokens\n",
        "    doc = ' '.join(filtered_tokens)\n",
        "    return doc\n",
        "\n",
        "normalize_corpus = np.vectorize(normalize_document)\n",
        "\n",
        "norm_corpus = normalize_corpus(list(df['content']))\n",
        "len(norm_corpus)"
      ],
      "execution_count": 102,
      "outputs": [
        {
          "output_type": "execute_result",
          "data": {
            "text/plain": [
              "42"
            ]
          },
          "metadata": {
            "tags": []
          },
          "execution_count": 102
        }
      ]
    },
    {
      "cell_type": "markdown",
      "metadata": {
        "id": "wO_HKpvWhmev"
      },
      "source": [
        "O código acima faz a normalização dos artigos pegados anteriormente, o código usado é o mesmo da aula sobre Comparação de textos."
      ]
    },
    {
      "cell_type": "code",
      "metadata": {
        "colab": {
          "base_uri": "https://localhost:8080/"
        },
        "id": "EmTg_ll2l7cO",
        "outputId": "f061a930-ba1c-4e23-8ede-468e991ddd8e"
      },
      "source": [
        "from sklearn.feature_extraction.text import TfidfVectorizer\n",
        "\n",
        "tf = TfidfVectorizer(ngram_range=(1, 2), min_df=2)\n",
        "tfidf_matrix = tf.fit_transform(norm_corpus)\n",
        "tfidf_matrix.shape"
      ],
      "execution_count": null,
      "outputs": [
        {
          "output_type": "execute_result",
          "data": {
            "text/plain": [
              "(42, 11602)"
            ]
          },
          "metadata": {
            "tags": []
          },
          "execution_count": 89
        }
      ]
    },
    {
      "cell_type": "markdown",
      "metadata": {
        "id": "0MFnCk4n1H3_"
      },
      "source": [
        "Utilizando de uni-grama e bi-gramas, vetorizamos os documentos para poder calcular a similaridade dos textos utilizando similaridade por cosseno."
      ]
    },
    {
      "cell_type": "code",
      "metadata": {
        "colab": {
          "base_uri": "https://localhost:8080/",
          "height": 224
        },
        "id": "cnJnCgQvp8nV",
        "outputId": "76681386-7f50-4d66-e716-53f4bd5a55d2"
      },
      "source": [
        "from sklearn.metrics.pairwise import cosine_similarity\n",
        "\n",
        "doc_sim = cosine_similarity(tfidf_matrix)\n",
        "doc_sim_df = pd.DataFrame(doc_sim)\n",
        "doc_sim_df.head()"
      ],
      "execution_count": null,
      "outputs": [
        {
          "output_type": "execute_result",
          "data": {
            "text/html": [
              "<div>\n",
              "<style scoped>\n",
              "    .dataframe tbody tr th:only-of-type {\n",
              "        vertical-align: middle;\n",
              "    }\n",
              "\n",
              "    .dataframe tbody tr th {\n",
              "        vertical-align: top;\n",
              "    }\n",
              "\n",
              "    .dataframe thead th {\n",
              "        text-align: right;\n",
              "    }\n",
              "</style>\n",
              "<table border=\"1\" class=\"dataframe\">\n",
              "  <thead>\n",
              "    <tr style=\"text-align: right;\">\n",
              "      <th></th>\n",
              "      <th>0</th>\n",
              "      <th>1</th>\n",
              "      <th>2</th>\n",
              "      <th>3</th>\n",
              "      <th>4</th>\n",
              "      <th>5</th>\n",
              "      <th>6</th>\n",
              "      <th>7</th>\n",
              "      <th>8</th>\n",
              "      <th>9</th>\n",
              "      <th>10</th>\n",
              "      <th>11</th>\n",
              "      <th>12</th>\n",
              "      <th>13</th>\n",
              "      <th>14</th>\n",
              "      <th>15</th>\n",
              "      <th>16</th>\n",
              "      <th>17</th>\n",
              "      <th>18</th>\n",
              "      <th>19</th>\n",
              "      <th>20</th>\n",
              "      <th>21</th>\n",
              "      <th>22</th>\n",
              "      <th>23</th>\n",
              "      <th>24</th>\n",
              "      <th>25</th>\n",
              "      <th>26</th>\n",
              "      <th>27</th>\n",
              "      <th>28</th>\n",
              "      <th>29</th>\n",
              "      <th>30</th>\n",
              "      <th>31</th>\n",
              "      <th>32</th>\n",
              "      <th>33</th>\n",
              "      <th>34</th>\n",
              "      <th>35</th>\n",
              "      <th>36</th>\n",
              "      <th>37</th>\n",
              "      <th>38</th>\n",
              "      <th>39</th>\n",
              "      <th>40</th>\n",
              "      <th>41</th>\n",
              "    </tr>\n",
              "  </thead>\n",
              "  <tbody>\n",
              "    <tr>\n",
              "      <th>0</th>\n",
              "      <td>1.000000</td>\n",
              "      <td>0.642237</td>\n",
              "      <td>0.569374</td>\n",
              "      <td>0.641148</td>\n",
              "      <td>0.647236</td>\n",
              "      <td>0.582632</td>\n",
              "      <td>0.674721</td>\n",
              "      <td>0.099039</td>\n",
              "      <td>0.059361</td>\n",
              "      <td>0.062289</td>\n",
              "      <td>0.053559</td>\n",
              "      <td>0.072001</td>\n",
              "      <td>0.045155</td>\n",
              "      <td>0.057598</td>\n",
              "      <td>0.050837</td>\n",
              "      <td>0.055305</td>\n",
              "      <td>0.049176</td>\n",
              "      <td>0.110601</td>\n",
              "      <td>0.047512</td>\n",
              "      <td>0.055894</td>\n",
              "      <td>0.044363</td>\n",
              "      <td>0.040851</td>\n",
              "      <td>0.075499</td>\n",
              "      <td>0.039405</td>\n",
              "      <td>0.074671</td>\n",
              "      <td>0.067213</td>\n",
              "      <td>0.072610</td>\n",
              "      <td>0.053266</td>\n",
              "      <td>0.087130</td>\n",
              "      <td>0.054628</td>\n",
              "      <td>0.082420</td>\n",
              "      <td>0.030741</td>\n",
              "      <td>0.087362</td>\n",
              "      <td>0.075232</td>\n",
              "      <td>0.056946</td>\n",
              "      <td>0.093784</td>\n",
              "      <td>0.074500</td>\n",
              "      <td>0.089878</td>\n",
              "      <td>0.080616</td>\n",
              "      <td>0.041441</td>\n",
              "      <td>0.049714</td>\n",
              "      <td>0.029064</td>\n",
              "    </tr>\n",
              "    <tr>\n",
              "      <th>1</th>\n",
              "      <td>0.642237</td>\n",
              "      <td>1.000000</td>\n",
              "      <td>0.514355</td>\n",
              "      <td>0.557032</td>\n",
              "      <td>0.581257</td>\n",
              "      <td>0.562610</td>\n",
              "      <td>0.581728</td>\n",
              "      <td>0.062421</td>\n",
              "      <td>0.033799</td>\n",
              "      <td>0.034798</td>\n",
              "      <td>0.032633</td>\n",
              "      <td>0.051360</td>\n",
              "      <td>0.042229</td>\n",
              "      <td>0.049748</td>\n",
              "      <td>0.034059</td>\n",
              "      <td>0.041666</td>\n",
              "      <td>0.033753</td>\n",
              "      <td>0.058805</td>\n",
              "      <td>0.032967</td>\n",
              "      <td>0.032631</td>\n",
              "      <td>0.029876</td>\n",
              "      <td>0.027169</td>\n",
              "      <td>0.043835</td>\n",
              "      <td>0.020913</td>\n",
              "      <td>0.055054</td>\n",
              "      <td>0.051524</td>\n",
              "      <td>0.047794</td>\n",
              "      <td>0.042132</td>\n",
              "      <td>0.056814</td>\n",
              "      <td>0.037859</td>\n",
              "      <td>0.053885</td>\n",
              "      <td>0.030165</td>\n",
              "      <td>0.056267</td>\n",
              "      <td>0.043799</td>\n",
              "      <td>0.032423</td>\n",
              "      <td>0.053850</td>\n",
              "      <td>0.068909</td>\n",
              "      <td>0.051160</td>\n",
              "      <td>0.051467</td>\n",
              "      <td>0.029872</td>\n",
              "      <td>0.030686</td>\n",
              "      <td>0.019556</td>\n",
              "    </tr>\n",
              "    <tr>\n",
              "      <th>2</th>\n",
              "      <td>0.569374</td>\n",
              "      <td>0.514355</td>\n",
              "      <td>1.000000</td>\n",
              "      <td>0.533760</td>\n",
              "      <td>0.534481</td>\n",
              "      <td>0.475627</td>\n",
              "      <td>0.507930</td>\n",
              "      <td>0.072952</td>\n",
              "      <td>0.056537</td>\n",
              "      <td>0.057959</td>\n",
              "      <td>0.041704</td>\n",
              "      <td>0.073190</td>\n",
              "      <td>0.063436</td>\n",
              "      <td>0.070249</td>\n",
              "      <td>0.049844</td>\n",
              "      <td>0.051940</td>\n",
              "      <td>0.043043</td>\n",
              "      <td>0.065851</td>\n",
              "      <td>0.037925</td>\n",
              "      <td>0.038475</td>\n",
              "      <td>0.032914</td>\n",
              "      <td>0.027975</td>\n",
              "      <td>0.043214</td>\n",
              "      <td>0.030499</td>\n",
              "      <td>0.064673</td>\n",
              "      <td>0.070918</td>\n",
              "      <td>0.064171</td>\n",
              "      <td>0.045185</td>\n",
              "      <td>0.082110</td>\n",
              "      <td>0.057061</td>\n",
              "      <td>0.073198</td>\n",
              "      <td>0.039680</td>\n",
              "      <td>0.055913</td>\n",
              "      <td>0.053211</td>\n",
              "      <td>0.031894</td>\n",
              "      <td>0.053588</td>\n",
              "      <td>0.049889</td>\n",
              "      <td>0.061945</td>\n",
              "      <td>0.053983</td>\n",
              "      <td>0.024861</td>\n",
              "      <td>0.035774</td>\n",
              "      <td>0.014028</td>\n",
              "    </tr>\n",
              "    <tr>\n",
              "      <th>3</th>\n",
              "      <td>0.641148</td>\n",
              "      <td>0.557032</td>\n",
              "      <td>0.533760</td>\n",
              "      <td>1.000000</td>\n",
              "      <td>0.621224</td>\n",
              "      <td>0.551239</td>\n",
              "      <td>0.604270</td>\n",
              "      <td>0.067875</td>\n",
              "      <td>0.054652</td>\n",
              "      <td>0.044786</td>\n",
              "      <td>0.047759</td>\n",
              "      <td>0.061678</td>\n",
              "      <td>0.050474</td>\n",
              "      <td>0.071663</td>\n",
              "      <td>0.043251</td>\n",
              "      <td>0.047654</td>\n",
              "      <td>0.046295</td>\n",
              "      <td>0.065546</td>\n",
              "      <td>0.037693</td>\n",
              "      <td>0.044041</td>\n",
              "      <td>0.039966</td>\n",
              "      <td>0.030459</td>\n",
              "      <td>0.051122</td>\n",
              "      <td>0.022776</td>\n",
              "      <td>0.071434</td>\n",
              "      <td>0.065862</td>\n",
              "      <td>0.059722</td>\n",
              "      <td>0.052323</td>\n",
              "      <td>0.068810</td>\n",
              "      <td>0.061009</td>\n",
              "      <td>0.074111</td>\n",
              "      <td>0.032865</td>\n",
              "      <td>0.066053</td>\n",
              "      <td>0.053104</td>\n",
              "      <td>0.035413</td>\n",
              "      <td>0.061169</td>\n",
              "      <td>0.059762</td>\n",
              "      <td>0.059150</td>\n",
              "      <td>0.054530</td>\n",
              "      <td>0.030035</td>\n",
              "      <td>0.032535</td>\n",
              "      <td>0.025213</td>\n",
              "    </tr>\n",
              "    <tr>\n",
              "      <th>4</th>\n",
              "      <td>0.647236</td>\n",
              "      <td>0.581257</td>\n",
              "      <td>0.534481</td>\n",
              "      <td>0.621224</td>\n",
              "      <td>1.000000</td>\n",
              "      <td>0.640099</td>\n",
              "      <td>0.678280</td>\n",
              "      <td>0.050203</td>\n",
              "      <td>0.034302</td>\n",
              "      <td>0.027846</td>\n",
              "      <td>0.033338</td>\n",
              "      <td>0.046159</td>\n",
              "      <td>0.035023</td>\n",
              "      <td>0.049385</td>\n",
              "      <td>0.035282</td>\n",
              "      <td>0.041642</td>\n",
              "      <td>0.032753</td>\n",
              "      <td>0.048451</td>\n",
              "      <td>0.028646</td>\n",
              "      <td>0.030853</td>\n",
              "      <td>0.025398</td>\n",
              "      <td>0.024106</td>\n",
              "      <td>0.039329</td>\n",
              "      <td>0.022723</td>\n",
              "      <td>0.061724</td>\n",
              "      <td>0.048251</td>\n",
              "      <td>0.049052</td>\n",
              "      <td>0.044074</td>\n",
              "      <td>0.058672</td>\n",
              "      <td>0.043173</td>\n",
              "      <td>0.062315</td>\n",
              "      <td>0.023193</td>\n",
              "      <td>0.047163</td>\n",
              "      <td>0.042726</td>\n",
              "      <td>0.035383</td>\n",
              "      <td>0.052237</td>\n",
              "      <td>0.041610</td>\n",
              "      <td>0.045356</td>\n",
              "      <td>0.050038</td>\n",
              "      <td>0.021275</td>\n",
              "      <td>0.027310</td>\n",
              "      <td>0.016734</td>\n",
              "    </tr>\n",
              "  </tbody>\n",
              "</table>\n",
              "</div>"
            ],
            "text/plain": [
              "         0         1         2   ...        39        40        41\n",
              "0  1.000000  0.642237  0.569374  ...  0.041441  0.049714  0.029064\n",
              "1  0.642237  1.000000  0.514355  ...  0.029872  0.030686  0.019556\n",
              "2  0.569374  0.514355  1.000000  ...  0.024861  0.035774  0.014028\n",
              "3  0.641148  0.557032  0.533760  ...  0.030035  0.032535  0.025213\n",
              "4  0.647236  0.581257  0.534481  ...  0.021275  0.027310  0.016734\n",
              "\n",
              "[5 rows x 42 columns]"
            ]
          },
          "metadata": {
            "tags": []
          },
          "execution_count": 98
        }
      ]
    },
    {
      "cell_type": "markdown",
      "metadata": {
        "id": "X0bSMoA96TI-"
      },
      "source": [
        "Assim como visto em aula, as linhas de código acima realizam a similaridade por cosseno e verifica os termos similares, mas ao invés de termos, com documentos. Os documentos são strings com valores TF-IDF.\n",
        "Abaixo vamos capturar os títulos dos filmes para usar na função."
      ]
    },
    {
      "cell_type": "code",
      "metadata": {
        "colab": {
          "base_uri": "https://localhost:8080/"
        },
        "id": "LntI6q4NqYcK",
        "outputId": "b0b97e30-aab8-434a-d23e-01deb8bb2b4e"
      },
      "source": [
        "book_list = df['title'].values\n",
        "book_list, book_list.shape"
      ],
      "execution_count": null,
      "outputs": [
        {
          "output_type": "execute_result",
          "data": {
            "text/plain": [
              "(array([\"Harry Potter and the Philosopher's Stone\",\n",
              "        'Harry Potter and the Chamber of Secrets',\n",
              "        'Harry Potter and the Prisoner of Azkaban',\n",
              "        'Harry Potter and the Goblet of Fire',\n",
              "        'Harry Potter and the Order of the Phoenix',\n",
              "        'Harry Potter and the Half-Blood Prince',\n",
              "        'Harry Potter and the Deathly Hallows', 'The Hobbit',\n",
              "        'The Fellowship of the Ring', 'The Two Towers',\n",
              "        'The Return of the King', 'A Game of Thrones', 'A Clash of Kings',\n",
              "        'A Storm of Swords', 'A Feast for Crows', 'A Dance with Dragons',\n",
              "        'The Winds of Winter', 'The Lion, the Witch and the Wardrobe',\n",
              "        'Prince Caspian', 'The Voyage of the Dawn Treader',\n",
              "        'The Silver Chair', 'The Horse and His Boy',\n",
              "        \"The Magician's Nephew\", 'The Last Battle', 'Eragon', 'Eldest',\n",
              "        'Brisingr', 'Inheritance (Paolini novel)',\n",
              "        'The Hunger Games (novel)', 'Catching Fire', 'Mockingjay',\n",
              "        'The Ballad of Songbirds and Snakes', 'In Search of Lost Time',\n",
              "        'Ulysses (novel)', 'Don Quixote', 'One Hundred Years of Solitude',\n",
              "        'The Great Gatsby', 'Moby-Dick', 'War and Peace', 'Hamlet',\n",
              "        \"Alice's Adventures in Wonderland\", 'Rebecca'], dtype=object), (42,))"
            ]
          },
          "metadata": {
            "tags": []
          },
          "execution_count": 97
        }
      ]
    },
    {
      "cell_type": "markdown",
      "metadata": {
        "id": "Us_LrsQ6vMcL"
      },
      "source": [
        "# Construindo de um recomendador de livros\n",
        "\n",
        "Juntando todos os conceitos vamos fazer o recomendador de livros"
      ]
    },
    {
      "cell_type": "code",
      "metadata": {
        "id": "7g83lgP1vZKe"
      },
      "source": [
        "def book_recommender(book_title, book=book_list, doc_sims=doc_sim_df, quantity=5):\n",
        "    quantity = quantity + 1\n",
        "    # find book id\n",
        "    book_idx = np.where(book == book_title)[0][0]\n",
        "    # get book similarities\n",
        "    book_similarities = doc_sims.iloc[book_idx].values\n",
        "    # get top n similar book IDs\n",
        "    similar_book_idxs = np.argsort(-book_similarities)[1:quantity]\n",
        "    # get top n books\n",
        "    similar_books = book[similar_book_idxs]\n",
        "    # return the top n books\n",
        "    return similar_books"
      ],
      "execution_count": null,
      "outputs": []
    },
    {
      "cell_type": "markdown",
      "metadata": {
        "id": "zJIyYae00zAK"
      },
      "source": [
        "Nos próximos trechos de código vamos pegar todos os livros e pegar os mais recomendados para cada um."
      ]
    },
    {
      "cell_type": "code",
      "metadata": {
        "colab": {
          "base_uri": "https://localhost:8080/"
        },
        "id": "c5As_824vysW",
        "outputId": "7b3e5fe2-1429-4649-a552-aba4ff121b73"
      },
      "source": [
        "all_books = df['title'].to_list()\n",
        "print(all_books)"
      ],
      "execution_count": null,
      "outputs": [
        {
          "output_type": "stream",
          "text": [
            "[\"Harry Potter and the Philosopher's Stone\", 'Harry Potter and the Chamber of Secrets', 'Harry Potter and the Prisoner of Azkaban', 'Harry Potter and the Goblet of Fire', 'Harry Potter and the Order of the Phoenix', 'Harry Potter and the Half-Blood Prince', 'Harry Potter and the Deathly Hallows', 'The Hobbit', 'The Fellowship of the Ring', 'The Two Towers', 'The Return of the King', 'A Game of Thrones', 'A Clash of Kings', 'A Storm of Swords', 'A Feast for Crows', 'A Dance with Dragons', 'The Winds of Winter', 'The Lion, the Witch and the Wardrobe', 'Prince Caspian', 'The Voyage of the Dawn Treader', 'The Silver Chair', 'The Horse and His Boy', \"The Magician's Nephew\", 'The Last Battle', 'Eragon', 'Eldest', 'Brisingr', 'Inheritance (Paolini novel)', 'The Hunger Games (novel)', 'Catching Fire', 'Mockingjay', 'The Ballad of Songbirds and Snakes', 'In Search of Lost Time', 'Ulysses (novel)', 'Don Quixote', 'One Hundred Years of Solitude', 'The Great Gatsby', 'Moby-Dick', 'War and Peace', 'Hamlet', \"Alice's Adventures in Wonderland\", 'Rebecca']\n"
          ],
          "name": "stdout"
        }
      ]
    },
    {
      "cell_type": "code",
      "metadata": {
        "colab": {
          "base_uri": "https://localhost:8080/"
        },
        "id": "ZAg3lqTUw1gF",
        "outputId": "0f8fdc97-78e6-45a4-e00e-272e969a3cc3"
      },
      "source": [
        "for book in all_books:\n",
        "  print(\"Book: \", book)\n",
        "  print(\"Top 10 recommended Books: \", book_recommender(book_title=book, quantity=10))\n",
        "  print()"
      ],
      "execution_count": 103,
      "outputs": [
        {
          "output_type": "stream",
          "text": [
            "Book:  Harry Potter and the Philosopher's Stone\n",
            "Top 10 recommended Books:  ['Harry Potter and the Deathly Hallows'\n",
            " 'Harry Potter and the Order of the Phoenix'\n",
            " 'Harry Potter and the Chamber of Secrets'\n",
            " 'Harry Potter and the Goblet of Fire'\n",
            " 'Harry Potter and the Half-Blood Prince'\n",
            " 'Harry Potter and the Prisoner of Azkaban'\n",
            " 'The Lion, the Witch and the Wardrobe' 'The Hobbit'\n",
            " 'One Hundred Years of Solitude' 'Moby-Dick']\n",
            "\n",
            "Book:  Harry Potter and the Chamber of Secrets\n",
            "Top 10 recommended Books:  [\"Harry Potter and the Philosopher's Stone\"\n",
            " 'Harry Potter and the Deathly Hallows'\n",
            " 'Harry Potter and the Order of the Phoenix'\n",
            " 'Harry Potter and the Half-Blood Prince'\n",
            " 'Harry Potter and the Goblet of Fire'\n",
            " 'Harry Potter and the Prisoner of Azkaban' 'The Great Gatsby'\n",
            " 'The Hobbit' 'The Lion, the Witch and the Wardrobe'\n",
            " 'The Hunger Games (novel)']\n",
            "\n",
            "Book:  Harry Potter and the Prisoner of Azkaban\n",
            "Top 10 recommended Books:  [\"Harry Potter and the Philosopher's Stone\"\n",
            " 'Harry Potter and the Order of the Phoenix'\n",
            " 'Harry Potter and the Goblet of Fire'\n",
            " 'Harry Potter and the Chamber of Secrets'\n",
            " 'Harry Potter and the Deathly Hallows'\n",
            " 'Harry Potter and the Half-Blood Prince' 'The Hunger Games (novel)'\n",
            " 'Mockingjay' 'A Game of Thrones' 'The Hobbit']\n",
            "\n",
            "Book:  Harry Potter and the Goblet of Fire\n",
            "Top 10 recommended Books:  [\"Harry Potter and the Philosopher's Stone\"\n",
            " 'Harry Potter and the Order of the Phoenix'\n",
            " 'Harry Potter and the Deathly Hallows'\n",
            " 'Harry Potter and the Chamber of Secrets'\n",
            " 'Harry Potter and the Half-Blood Prince'\n",
            " 'Harry Potter and the Prisoner of Azkaban' 'Mockingjay'\n",
            " 'A Storm of Swords' 'Eragon' 'The Hunger Games (novel)']\n",
            "\n",
            "Book:  Harry Potter and the Order of the Phoenix\n",
            "Top 10 recommended Books:  ['Harry Potter and the Deathly Hallows'\n",
            " \"Harry Potter and the Philosopher's Stone\"\n",
            " 'Harry Potter and the Half-Blood Prince'\n",
            " 'Harry Potter and the Goblet of Fire'\n",
            " 'Harry Potter and the Chamber of Secrets'\n",
            " 'Harry Potter and the Prisoner of Azkaban' 'Mockingjay' 'Eragon'\n",
            " 'The Hunger Games (novel)' 'One Hundred Years of Solitude']\n",
            "\n",
            "Book:  Harry Potter and the Half-Blood Prince\n",
            "Top 10 recommended Books:  ['Harry Potter and the Deathly Hallows'\n",
            " 'Harry Potter and the Order of the Phoenix'\n",
            " \"Harry Potter and the Philosopher's Stone\"\n",
            " 'Harry Potter and the Chamber of Secrets'\n",
            " 'Harry Potter and the Goblet of Fire'\n",
            " 'Harry Potter and the Prisoner of Azkaban' 'Mockingjay' 'Brisingr'\n",
            " 'War and Peace' 'The Hunger Games (novel)']\n",
            "\n",
            "Book:  Harry Potter and the Deathly Hallows\n",
            "Top 10 recommended Books:  ['Harry Potter and the Order of the Phoenix'\n",
            " \"Harry Potter and the Philosopher's Stone\"\n",
            " 'Harry Potter and the Half-Blood Prince'\n",
            " 'Harry Potter and the Goblet of Fire'\n",
            " 'Harry Potter and the Chamber of Secrets'\n",
            " 'Harry Potter and the Prisoner of Azkaban' 'Mockingjay'\n",
            " 'The Hunger Games (novel)' 'The Hobbit' 'In Search of Lost Time']\n",
            "\n",
            "Book:  The Hobbit\n",
            "Top 10 recommended Books:  ['The Fellowship of the Ring' 'The Return of the King' 'The Two Towers'\n",
            " 'The Lion, the Witch and the Wardrobe' \"The Magician's Nephew\"\n",
            " 'In Search of Lost Time' 'Moby-Dick' 'One Hundred Years of Solitude'\n",
            " \"Harry Potter and the Philosopher's Stone\" 'Ulysses (novel)']\n",
            "\n",
            "Book:  The Fellowship of the Ring\n",
            "Top 10 recommended Books:  ['The Return of the King' 'The Two Towers' 'The Hobbit'\n",
            " 'In Search of Lost Time' \"The Magician's Nephew\" 'Moby-Dick'\n",
            " 'The Lion, the Witch and the Wardrobe'\n",
            " 'Harry Potter and the Deathly Hallows' 'Eldest'\n",
            " 'Inheritance (Paolini novel)']\n",
            "\n",
            "Book:  The Two Towers\n",
            "Top 10 recommended Books:  ['The Fellowship of the Ring' 'The Return of the King' 'The Hobbit'\n",
            " 'In Search of Lost Time' 'Moby-Dick'\n",
            " 'Harry Potter and the Half-Blood Prince'\n",
            " 'Harry Potter and the Deathly Hallows'\n",
            " \"Harry Potter and the Philosopher's Stone\" 'The Great Gatsby'\n",
            " 'The Lion, the Witch and the Wardrobe']\n",
            "\n",
            "Book:  The Return of the King\n",
            "Top 10 recommended Books:  ['The Fellowship of the Ring' 'The Two Towers' 'The Hobbit'\n",
            " 'In Search of Lost Time' 'War and Peace' 'Eldest' 'Moby-Dick'\n",
            " 'Harry Potter and the Deathly Hallows' 'The Great Gatsby'\n",
            " \"The Magician's Nephew\"]\n",
            "\n",
            "Book:  A Game of Thrones\n",
            "Top 10 recommended Books:  ['A Clash of Kings' 'A Storm of Swords' 'A Dance with Dragons'\n",
            " 'A Feast for Crows' 'The Winds of Winter' 'One Hundred Years of Solitude'\n",
            " 'War and Peace' 'Eldest' 'The Hunger Games (novel)'\n",
            " 'In Search of Lost Time']\n",
            "\n",
            "Book:  A Clash of Kings\n",
            "Top 10 recommended Books:  ['A Game of Thrones' 'A Storm of Swords' 'A Dance with Dragons'\n",
            " 'A Feast for Crows' 'The Winds of Winter' 'War and Peace'\n",
            " 'One Hundred Years of Solitude' 'Eldest' 'Inheritance (Paolini novel)'\n",
            " 'Harry Potter and the Prisoner of Azkaban']\n",
            "\n",
            "Book:  A Storm of Swords\n",
            "Top 10 recommended Books:  ['A Clash of Kings' 'A Game of Thrones' 'A Dance with Dragons'\n",
            " 'A Feast for Crows' 'The Winds of Winter' 'In Search of Lost Time'\n",
            " 'Harry Potter and the Goblet of Fire'\n",
            " 'Harry Potter and the Prisoner of Azkaban'\n",
            " 'Harry Potter and the Half-Blood Prince'\n",
            " 'Harry Potter and the Deathly Hallows']\n",
            "\n",
            "Book:  A Feast for Crows\n",
            "Top 10 recommended Books:  ['A Dance with Dragons' 'A Storm of Swords' 'A Game of Thrones'\n",
            " 'A Clash of Kings' 'The Winds of Winter' 'In Search of Lost Time'\n",
            " 'One Hundred Years of Solitude' 'War and Peace'\n",
            " 'Harry Potter and the Half-Blood Prince' 'Inheritance (Paolini novel)']\n",
            "\n",
            "Book:  A Dance with Dragons\n",
            "Top 10 recommended Books:  ['The Winds of Winter' 'A Feast for Crows' 'A Clash of Kings'\n",
            " 'A Storm of Swords' 'A Game of Thrones' 'In Search of Lost Time'\n",
            " 'Inheritance (Paolini novel)' 'Brisingr' 'War and Peace'\n",
            " 'One Hundred Years of Solitude']\n",
            "\n",
            "Book:  The Winds of Winter\n",
            "Top 10 recommended Books:  ['A Dance with Dragons' 'A Feast for Crows' 'A Game of Thrones'\n",
            " 'A Clash of Kings' 'A Storm of Swords'\n",
            " 'The Lion, the Witch and the Wardrobe' 'Moby-Dick'\n",
            " 'Harry Potter and the Half-Blood Prince'\n",
            " 'Harry Potter and the Deathly Hallows' 'Mockingjay']\n",
            "\n",
            "Book:  The Lion, the Witch and the Wardrobe\n",
            "Top 10 recommended Books:  [\"The Magician's Nephew\" 'The Voyage of the Dawn Treader' 'Prince Caspian'\n",
            " 'The Last Battle' 'The Horse and His Boy' 'The Silver Chair' 'The Hobbit'\n",
            " \"Harry Potter and the Philosopher's Stone\" 'In Search of Lost Time'\n",
            " 'One Hundred Years of Solitude']\n",
            "\n",
            "Book:  Prince Caspian\n",
            "Top 10 recommended Books:  ['The Voyage of the Dawn Treader' 'The Lion, the Witch and the Wardrobe'\n",
            " 'The Last Battle' 'The Silver Chair' 'The Horse and His Boy'\n",
            " \"The Magician's Nephew\" 'War and Peace'\n",
            " 'Harry Potter and the Half-Blood Prince' 'The Hobbit' 'A Game of Thrones']\n",
            "\n",
            "Book:  The Voyage of the Dawn Treader\n",
            "Top 10 recommended Books:  ['The Silver Chair' 'Prince Caspian'\n",
            " 'The Lion, the Witch and the Wardrobe' 'The Last Battle'\n",
            " 'The Horse and His Boy' \"The Magician's Nephew\" 'Moby-Dick' 'The Hobbit'\n",
            " 'The Ballad of Songbirds and Snakes' 'Ulysses (novel)']\n",
            "\n",
            "Book:  The Silver Chair\n",
            "Top 10 recommended Books:  ['The Voyage of the Dawn Treader' 'Prince Caspian' 'The Last Battle'\n",
            " 'The Lion, the Witch and the Wardrobe' \"The Magician's Nephew\"\n",
            " 'The Horse and His Boy' 'One Hundred Years of Solitude'\n",
            " 'In Search of Lost Time' 'War and Peace' 'The Hobbit']\n",
            "\n",
            "Book:  The Horse and His Boy\n",
            "Top 10 recommended Books:  ['The Last Battle' 'The Lion, the Witch and the Wardrobe' 'Prince Caspian'\n",
            " 'The Voyage of the Dawn Treader' \"The Magician's Nephew\"\n",
            " 'The Silver Chair' 'In Search of Lost Time'\n",
            " 'One Hundred Years of Solitude' 'War and Peace' 'Ulysses (novel)']\n",
            "\n",
            "Book:  The Magician's Nephew\n",
            "Top 10 recommended Books:  ['The Lion, the Witch and the Wardrobe' 'The Last Battle'\n",
            " 'The Horse and His Boy' 'The Voyage of the Dawn Treader'\n",
            " 'The Silver Chair' 'Prince Caspian' 'The Hobbit'\n",
            " 'One Hundred Years of Solitude' 'In Search of Lost Time' 'Moby-Dick']\n",
            "\n",
            "Book:  The Last Battle\n",
            "Top 10 recommended Books:  ['The Lion, the Witch and the Wardrobe' 'The Horse and His Boy'\n",
            " 'Prince Caspian' 'The Silver Chair' 'The Voyage of the Dawn Treader'\n",
            " \"The Magician's Nephew\" 'One Hundred Years of Solitude' 'The Hobbit'\n",
            " 'In Search of Lost Time' 'War and Peace']\n",
            "\n",
            "Book:  Eragon\n",
            "Top 10 recommended Books:  ['Inheritance (Paolini novel)' 'Brisingr' 'Eldest'\n",
            " 'Harry Potter and the Half-Blood Prince' 'The Hobbit'\n",
            " \"Harry Potter and the Philosopher's Stone\"\n",
            " 'Harry Potter and the Goblet of Fire' 'The Hunger Games (novel)'\n",
            " 'A Game of Thrones' 'Harry Potter and the Deathly Hallows']\n",
            "\n",
            "Book:  Eldest\n",
            "Top 10 recommended Books:  ['Eragon' 'Inheritance (Paolini novel)' 'Brisingr' 'The Hobbit'\n",
            " 'Mockingjay' 'One Hundred Years of Solitude'\n",
            " 'Harry Potter and the Half-Blood Prince' 'A Game of Thrones'\n",
            " 'War and Peace' 'The Hunger Games (novel)']\n",
            "\n",
            "Book:  Brisingr\n",
            "Top 10 recommended Books:  ['Inheritance (Paolini novel)' 'Eragon' 'Eldest'\n",
            " 'Harry Potter and the Half-Blood Prince' 'Mockingjay'\n",
            " 'Harry Potter and the Deathly Hallows' 'The Hobbit'\n",
            " 'The Hunger Games (novel)' 'A Dance with Dragons'\n",
            " \"Harry Potter and the Philosopher's Stone\"]\n",
            "\n",
            "Book:  Inheritance (Paolini novel)\n",
            "Top 10 recommended Books:  ['Eragon' 'Brisingr' 'Eldest' 'A Dance with Dragons'\n",
            " 'Harry Potter and the Half-Blood Prince' 'The Fellowship of the Ring'\n",
            " 'A Game of Thrones' 'A Clash of Kings' 'Mockingjay' 'The Hobbit']\n",
            "\n",
            "Book:  The Hunger Games (novel)\n",
            "Top 10 recommended Books:  ['Catching Fire' 'Mockingjay' 'The Ballad of Songbirds and Snakes'\n",
            " 'One Hundred Years of Solitude' 'Harry Potter and the Half-Blood Prince'\n",
            " 'Harry Potter and the Deathly Hallows'\n",
            " \"Harry Potter and the Philosopher's Stone\"\n",
            " 'Harry Potter and the Prisoner of Azkaban' 'Eldest' 'Brisingr']\n",
            "\n",
            "Book:  Catching Fire\n",
            "Top 10 recommended Books:  ['The Hunger Games (novel)' 'Mockingjay'\n",
            " 'The Ballad of Songbirds and Snakes'\n",
            " 'Harry Potter and the Half-Blood Prince'\n",
            " 'Harry Potter and the Goblet of Fire'\n",
            " 'Harry Potter and the Deathly Hallows'\n",
            " 'Harry Potter and the Prisoner of Azkaban'\n",
            " \"Harry Potter and the Philosopher's Stone\" 'Eldest'\n",
            " 'One Hundred Years of Solitude']\n",
            "\n",
            "Book:  Mockingjay\n",
            "Top 10 recommended Books:  ['The Hunger Games (novel)' 'Catching Fire'\n",
            " 'The Ballad of Songbirds and Snakes'\n",
            " 'Harry Potter and the Half-Blood Prince'\n",
            " 'Harry Potter and the Deathly Hallows' 'Brisingr' 'Eldest'\n",
            " \"Harry Potter and the Philosopher's Stone\" 'War and Peace'\n",
            " 'One Hundred Years of Solitude']\n",
            "\n",
            "Book:  The Ballad of Songbirds and Snakes\n",
            "Top 10 recommended Books:  ['The Hunger Games (novel)' 'Mockingjay' 'Catching Fire'\n",
            " 'The Lion, the Witch and the Wardrobe' 'The Voyage of the Dawn Treader'\n",
            " 'One Hundred Years of Solitude' 'Prince Caspian' 'A Game of Thrones'\n",
            " 'Eldest' 'In Search of Lost Time']\n",
            "\n",
            "Book:  In Search of Lost Time\n",
            "Top 10 recommended Books:  ['One Hundred Years of Solitude' 'War and Peace' 'Don Quixote'\n",
            " 'Ulysses (novel)' 'Moby-Dick' 'The Great Gatsby' 'The Hobbit'\n",
            " 'The Lion, the Witch and the Wardrobe' 'A Dance with Dragons'\n",
            " 'The Fellowship of the Ring']\n",
            "\n",
            "Book:  Ulysses (novel)\n",
            "Top 10 recommended Books:  ['In Search of Lost Time' 'Moby-Dick' 'The Hobbit' 'The Great Gatsby'\n",
            " 'One Hundred Years of Solitude' 'War and Peace'\n",
            " 'The Lion, the Witch and the Wardrobe'\n",
            " \"Harry Potter and the Philosopher's Stone\" 'Hamlet' 'Don Quixote']\n",
            "\n",
            "Book:  Don Quixote\n",
            "Top 10 recommended Books:  ['In Search of Lost Time' 'One Hundred Years of Solitude' 'War and Peace'\n",
            " 'Moby-Dick' 'The Hobbit' 'Ulysses (novel)' 'The Great Gatsby'\n",
            " 'Harry Potter and the Deathly Hallows'\n",
            " 'The Lion, the Witch and the Wardrobe'\n",
            " \"Harry Potter and the Philosopher's Stone\"]\n",
            "\n",
            "Book:  One Hundred Years of Solitude\n",
            "Top 10 recommended Books:  ['In Search of Lost Time' 'War and Peace' 'The Great Gatsby' 'Don Quixote'\n",
            " 'Moby-Dick' \"The Magician's Nephew\" 'The Hobbit'\n",
            " 'The Hunger Games (novel)' 'The Lion, the Witch and the Wardrobe'\n",
            " \"Harry Potter and the Philosopher's Stone\"]\n",
            "\n",
            "Book:  The Great Gatsby\n",
            "Top 10 recommended Books:  ['In Search of Lost Time' 'One Hundred Years of Solitude' 'War and Peace'\n",
            " 'Moby-Dick' 'Ulysses (novel)' 'The Hobbit'\n",
            " 'The Lion, the Witch and the Wardrobe'\n",
            " \"Harry Potter and the Philosopher's Stone\" 'The Hunger Games (novel)'\n",
            " 'A Game of Thrones']\n",
            "\n",
            "Book:  Moby-Dick\n",
            "Top 10 recommended Books:  ['In Search of Lost Time' 'One Hundred Years of Solitude'\n",
            " 'Ulysses (novel)' 'The Hobbit' 'The Great Gatsby'\n",
            " 'The Lion, the Witch and the Wardrobe'\n",
            " \"Harry Potter and the Philosopher's Stone\" 'War and Peace'\n",
            " 'Harry Potter and the Half-Blood Prince'\n",
            " 'Harry Potter and the Deathly Hallows']\n",
            "\n",
            "Book:  War and Peace\n",
            "Top 10 recommended Books:  ['In Search of Lost Time' 'One Hundred Years of Solitude'\n",
            " 'The Great Gatsby' 'Don Quixote' 'The Lion, the Witch and the Wardrobe'\n",
            " 'The Hobbit' 'Harry Potter and the Half-Blood Prince' 'Moby-Dick'\n",
            " 'A Game of Thrones' 'Ulysses (novel)']\n",
            "\n",
            "Book:  Hamlet\n",
            "Top 10 recommended Books:  ['Moby-Dick' 'Ulysses (novel)' 'War and Peace' 'In Search of Lost Time'\n",
            " 'One Hundred Years of Solitude' 'The Great Gatsby'\n",
            " 'The Lion, the Witch and the Wardrobe' 'The Hobbit'\n",
            " \"The Magician's Nephew\" 'Don Quixote']\n",
            "\n",
            "Book:  Alice's Adventures in Wonderland\n",
            "Top 10 recommended Books:  ['The Lion, the Witch and the Wardrobe' 'The Hobbit'\n",
            " 'In Search of Lost Time' \"The Magician's Nephew\" 'Moby-Dick'\n",
            " 'War and Peace' 'Harry Potter and the Deathly Hallows' 'Ulysses (novel)'\n",
            " 'One Hundred Years of Solitude'\n",
            " \"Harry Potter and the Philosopher's Stone\"]\n",
            "\n",
            "Book:  Rebecca\n",
            "Top 10 recommended Books:  ['One Hundred Years of Solitude' 'Moby-Dick' 'In Search of Lost Time'\n",
            " 'War and Peace' \"The Magician's Nephew\" 'The Great Gatsby'\n",
            " 'The Lion, the Witch and the Wardrobe' 'Eragon'\n",
            " 'Harry Potter and the Deathly Hallows'\n",
            " \"Harry Potter and the Philosopher's Stone\"]\n",
            "\n"
          ],
          "name": "stdout"
        }
      ]
    }
  ]
}